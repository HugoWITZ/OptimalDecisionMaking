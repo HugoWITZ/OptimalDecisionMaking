{
 "cells": [
  {
   "cell_type": "markdown",
   "metadata": {},
   "source": [
    "# T2E4: Solving Linear Programs with CVXPY"
   ]
  },
  {
   "cell_type": "markdown",
   "metadata": {},
   "source": [
    "## Basics"
   ]
  },
  {
   "cell_type": "markdown",
   "metadata": {},
   "source": [
    "First, import the necessary packages `numpy` (for vector mathematics) and `cvxpy` (for optimization)."
   ]
  },
  {
   "cell_type": "code",
   "execution_count": 1,
   "metadata": {},
   "outputs": [],
   "source": [
    "import numpy as np\n",
    "import cvxpy as cp"
   ]
  },
  {
   "cell_type": "markdown",
   "metadata": {},
   "source": [
    "Now define the decision variable $x=[x_1, x_2, x_3]^\\top$. This can be done with `cp.Variable(shape)`. <br>Use shape $(rows, columns)=(3,1)$ to model the 3 decision variables."
   ]
  },
  {
   "cell_type": "code",
   "execution_count": 2,
   "metadata": {},
   "outputs": [],
   "source": [
    "x = cp.Variable((3,1))"
   ]
  },
  {
   "cell_type": "markdown",
   "metadata": {},
   "source": [
    "Next, define an array containing all the constraints (use `>=` for *greater-equal*, `<=` for *less-equal* and `==` for *equal*). You can use these inequalities directly on vectors. <br>Hint: Define `c_i` vectors for constraint i and write the constraints using them. Define a numpy array with `np.array(elements)`.\n",
    "Use `.T` to denote the transpose and `@` for matrix multiplication."
   ]
  },
  {
   "cell_type": "code",
   "execution_count": 3,
   "metadata": {},
   "outputs": [],
   "source": [
    "c1 = np.array([[1],[-1],[1]])\n",
    "c2 = np.array([[3],[2],[4]])\n",
    "c3 = np.array([[3],[2],[0]])\n",
    "\n",
    "constraints = [\n",
    "    x>=0, # all x greater or equal to 0\n",
    "    c1.T@x<=20, # constraints written in matrix form\n",
    "    c2.T@x<=42,\n",
    "    c3.T@x<=30\n",
    "]"
   ]
  },
  {
   "cell_type": "markdown",
   "metadata": {},
   "source": [
    "Define the objective: We want to minimize (`cp.Minimize`) $o^\\top x$ for $o = [-5, -4, -6]^\\top$"
   ]
  },
  {
   "cell_type": "code",
   "execution_count": 4,
   "metadata": {},
   "outputs": [],
   "source": [
    "o = np.array([[-5],[-4],[-6]]) # define o\n",
    "objective = cp.Minimize(o.T@x) # define the objective"
   ]
  },
  {
   "cell_type": "markdown",
   "metadata": {},
   "source": [
    "We are now ready to solve the problem. For this, first combine the objective and constraints to formulate the problem using `cp.Problem`. You can then use `.solve()` on the problem to solve the problem."
   ]
  },
  {
   "cell_type": "code",
   "execution_count": 5,
   "metadata": {},
   "outputs": [
    {
     "data": {
      "text/plain": [
       "-77.99999997665509"
      ]
     },
     "execution_count": 5,
     "metadata": {},
     "output_type": "execute_result"
    }
   ],
   "source": [
    "problem = cp.Problem(objective, constraints) # define the problem\n",
    "problem.solve() # solve it"
   ]
  },
  {
   "cell_type": "markdown",
   "metadata": {},
   "source": [
    "This directly outputs the optimal objective value. It is $-78$ (note the small error due to numerical errors). <br>\n",
    "Let's now examine the optimal values of x using `.value` on x."
   ]
  },
  {
   "cell_type": "code",
   "execution_count": 6,
   "metadata": {},
   "outputs": [
    {
     "data": {
      "text/plain": [
       "array([[6.38279109e-10],\n",
       "       [1.50000000e+01],\n",
       "       [3.00000000e+00]])"
      ]
     },
     "execution_count": 6,
     "metadata": {},
     "output_type": "execute_result"
    }
   ],
   "source": [
    "x.value"
   ]
  },
  {
   "cell_type": "markdown",
   "metadata": {},
   "source": [
    "Check out the [CVXPY Website](https://www.cvxpy.org/index.html) for more information and examples."
   ]
  },
  {
   "cell_type": "markdown",
   "metadata": {},
   "source": [
    "## Advanced Topics (Optional)"
   ]
  },
  {
   "cell_type": "markdown",
   "metadata": {},
   "source": [
    "We will now show some thing that will be useful later in the course. Don't worry, you don't have to understand this now, just come back to it once we cover this in the course."
   ]
  },
  {
   "cell_type": "markdown",
   "metadata": {},
   "source": [
    "### Dual Variables\n",
    "You can use `.dual_value` on any constraint to get the value of the dual variable of the optimal solution. Note that you can index python lists using `list[i]` to get the ith element in the list."
   ]
  },
  {
   "cell_type": "code",
   "execution_count": 7,
   "metadata": {},
   "outputs": [
    {
     "data": {
      "text/plain": [
       "array([[6.17979799e-11]])"
      ]
     },
     "execution_count": 7,
     "metadata": {},
     "output_type": "execute_result"
    }
   ],
   "source": [
    "constraints[1].dual_value"
   ]
  },
  {
   "cell_type": "markdown",
   "metadata": {},
   "source": [
    "### Solver choice\n",
    "We will now specify using a specific solver (OSQP) by using `solver=cp.OSQP` as an optional arugment when solving the problem."
   ]
  },
  {
   "cell_type": "code",
   "execution_count": 8,
   "metadata": {},
   "outputs": [
    {
     "data": {
      "text/plain": [
       "-78.0"
      ]
     },
     "execution_count": 8,
     "metadata": {},
     "output_type": "execute_result"
    }
   ],
   "source": [
    "problem.solve(solver=cp.OSQP)"
   ]
  },
  {
   "cell_type": "code",
   "execution_count": 9,
   "metadata": {},
   "outputs": [
    {
     "data": {
      "text/plain": [
       "array([[1.30643833e-22],\n",
       "       [1.50000000e+01],\n",
       "       [3.00000000e+00]])"
      ]
     },
     "execution_count": 9,
     "metadata": {},
     "output_type": "execute_result"
    }
   ],
   "source": [
    "x.value"
   ]
  },
  {
   "cell_type": "markdown",
   "metadata": {},
   "source": [
    "You can consult the list of solvers on the [CVXPY website](https://www.cvxpy.org/tutorial/advanced/index.html#choosing-a-solver)"
   ]
  },
  {
   "cell_type": "markdown",
   "metadata": {},
   "source": [
    "### Binary variables\n",
    "We will now solve a simple example problem using binary variables (which take value either 1 or 0). This is done by using `boolean=True` when defining the variable."
   ]
  },
  {
   "cell_type": "code",
   "execution_count": 10,
   "metadata": {},
   "outputs": [],
   "source": [
    "x = cp.Variable((3,1), boolean=True)"
   ]
  },
  {
   "cell_type": "code",
   "execution_count": 11,
   "metadata": {},
   "outputs": [
    {
     "data": {
      "text/plain": [
       "-5.0"
      ]
     },
     "execution_count": 11,
     "metadata": {},
     "output_type": "execute_result"
    }
   ],
   "source": [
    "# find the largest element in a vector\n",
    "o = np.array([[2],[3],[5]])\n",
    "objective = cp.Minimize(-o.T@x)\n",
    "\n",
    "ones = np.array([[1],[1],[1]])\n",
    "constraints = [ones.T@x<=1]\n",
    "\n",
    "problem = cp.Problem(objective, constraints)\n",
    "problem.solve()"
   ]
  },
  {
   "cell_type": "code",
   "execution_count": 12,
   "metadata": {},
   "outputs": [
    {
     "data": {
      "text/plain": [
       "array([[0.],\n",
       "       [0.],\n",
       "       [1.]])"
      ]
     },
     "execution_count": 12,
     "metadata": {},
     "output_type": "execute_result"
    }
   ],
   "source": [
    "x.value"
   ]
  },
  {
   "cell_type": "markdown",
   "metadata": {},
   "source": [
    "The third element is indeed the largest (5)"
   ]
  },
  {
   "cell_type": "markdown",
   "metadata": {},
   "source": [
    "(In the same way you can use `integer=True` to specify integer values)"
   ]
  },
  {
   "cell_type": "code",
   "execution_count": null,
   "metadata": {},
   "outputs": [],
   "source": []
  }
 ],
 "metadata": {
  "kernelspec": {
   "display_name": "Python 3",
   "language": "python",
   "name": "python3"
  },
  "language_info": {
   "codemirror_mode": {
    "name": "ipython",
    "version": 3
   },
   "file_extension": ".py",
   "mimetype": "text/x-python",
   "name": "python",
   "nbconvert_exporter": "python",
   "pygments_lexer": "ipython3",
   "version": "3.8.8"
  }
 },
 "nbformat": 4,
 "nbformat_minor": 4
}
