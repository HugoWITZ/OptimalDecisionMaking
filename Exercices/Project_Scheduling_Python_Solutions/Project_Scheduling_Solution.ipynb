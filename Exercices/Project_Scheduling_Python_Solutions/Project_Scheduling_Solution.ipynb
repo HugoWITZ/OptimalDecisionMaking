{
 "cells": [
  {
   "cell_type": "markdown",
   "metadata": {},
   "source": [
    "# T2E5: Project Scheduling"
   ]
  },
  {
   "cell_type": "code",
   "execution_count": 1,
   "metadata": {},
   "outputs": [],
   "source": [
    "# First, as usual, some imports\n",
    "import numpy as np\n",
    "import cvxpy as cp\n",
    "# this time, we also include matplolib pyplot for plotting\n",
    "import matplotlib.pyplot as plt"
   ]
  },
  {
   "cell_type": "markdown",
   "metadata": {},
   "source": [
    "In project scheduling we are given a project graph as displayed below. Each node $i\\in \\mathcal V=\\{1,\\ldots, n\\}$ in the graph represents a task, and each arc $(i,j)\\in \\mathcal{E} \\subset \\mathcal{V} \\times \\mathcal{V}$ represents a precedence relation: an arc from $i$ to $j$ means that task $j$ can only be initiated once task $i$ is completed. The task durations are denoted by $\\lbrace d_i \\rbrace_{i=1}^n$. <br>\n",
    "<img src=\"project_graph.png\"><br>\n",
    "The objective is to minimize the completion time of the project (i.e., the completion time of task $n$). This problem can be reformulated as a linear program of the form\n",
    "\n",
    "$$\n",
    "\\begin{array}{cll}\n",
    " \t\\min & s_n + d_n & \\\\\n",
    " \t\\text{s.t.} & s_i \\geq 0 & \\forall i \\in \\lbrace 1,2,\\ldots,n \\rbrace \\\\\n",
    " \t & s_v \\geq s_u + d_u & \\forall (u,v) \\in \\mathcal{E},\n",
    "\\end{array}\n",
    "$$\n",
    "<br>\n",
    "where the decision variable $s_i$ represents the start time of task $i$, while $\\boldsymbol{s}=(s_1,\\ldots, s_n)$ is referred to as the project schedule. When implementing project scheduling problems, it is convenient (but not necessary) to represent the project graph by an adjacency matrix $\\boldsymbol{A}\\in \\{0,1\\}^{n\\times n}$ and the task durations by a vector $\\boldsymbol{d}=\\lbrace d_1,\\ldots, d_n\\rbrace^\\top\\in\\mathbb R^n$. In the example of the Figure just above, we set\n",
    "<br>\n",
    "$$\n",
    "\t\\boldsymbol{A} = \\left[ \\begin{array}{cccccc}\n",
    "\t\t\t\t\t\t \t\t0 & 1 & 0 & 1 & 0 & 0 \\\\\n",
    "                        \t\t0 & 0 & 1 & 0 & 1 & 0 \\\\\n",
    "                        \t\t0 & 0 & 0 & 0 & 0 & 1 \\\\\n",
    "                        \t\t0 & 0 & 0 & 0 & 1 & 0 \\\\\n",
    "                        \t\t0 & 0 & 0 & 0 & 0 & 1 \\\\\n",
    "                        \t\t0 & 0 & 0 & 0 & 0 & 0\n",
    "\t              \t\t \\end{array} \\right]~\\text{and}~\n",
    "\t\\boldsymbol{d}=   \\left[ \\begin{array}{c}\n",
    "\t\t\t\t\t\t \t\t4 \\\\ 5 \\\\ 6 \\\\ 1 \\\\ 8 \\\\ 5\n",
    "\t    \t\t\t\t \\end{array} \\right],\n",
    "$$\n",
    "<br>\n",
    "where $A_{ij}=1$ if $(i,j)\\in\\mathcal E$ and $A_{ij}=0$ if $(i,j)\\notin\\mathcal E$."
   ]
  },
  {
   "cell_type": "markdown",
   "metadata": {},
   "source": [
    "## 1) Solving the Problem\n",
    "Implement and solve a linear program that finds the optimal schedule for the project given by $\\boldsymbol{A}$ and $\\boldsymbol{d}$.<br>\n",
    "We define $\\boldsymbol{A}$ and $\\boldsymbol{d}$ as numpy arrays for your conviencience."
   ]
  },
  {
   "cell_type": "code",
   "execution_count": 2,
   "metadata": {},
   "outputs": [],
   "source": [
    "A = np.array([[0, 1, 0, 1, 0, 0], \n",
    "              [0, 0, 1, 0, 1, 0],\n",
    "              [0, 0, 0, 0, 0, 1],\n",
    "              [0, 0, 0, 0, 1, 0],\n",
    "              [0, 0, 0, 0, 0, 1],\n",
    "              [0, 0, 0, 0, 0, 0]])\n",
    "d = np.array([[4, 5, 6, 1, 8, 5]]).T"
   ]
  },
  {
   "cell_type": "markdown",
   "metadata": {},
   "source": [
    "Now, define the variable, objective and constraints just like we did in the tutorial: <br>\n",
    "*Hint: You can define the constraints either by writing them out yourself, or by looping over the adjacency matrix and `.append` the constraint to the list of constraints if the adjacency entry is 1*"
   ]
  },
  {
   "cell_type": "code",
   "execution_count": 3,
   "metadata": {},
   "outputs": [],
   "source": [
    "# define the decision variables\n",
    "s = cp.Variable((6,1))\n",
    "# define the objective\n",
    "objective = cp.Minimize(s[5,0]+d[5,0])"
   ]
  },
  {
   "cell_type": "code",
   "execution_count": 4,
   "metadata": {},
   "outputs": [],
   "source": [
    "# define the constraints\n",
    "# smart way: use list.append\n",
    "constraints = [s>=0]\n",
    "for u in range(6):\n",
    "    for v in range(6):\n",
    "        if A[u,v]:\n",
    "            constraints.append(s[v,0]>=s[u,0]+d[u,0])"
   ]
  },
  {
   "cell_type": "code",
   "execution_count": 5,
   "metadata": {},
   "outputs": [],
   "source": [
    "# simple way, just write everything out\n",
    "constraints2 = [\n",
    "    s>=0,\n",
    "    s[1,0]>=s[0,0]+d[0,0],\n",
    "    s[3,0]>=s[0,0]+d[0,0],\n",
    "    s[2,0]>=s[1,0]+d[1,0],\n",
    "    s[4,0]>=s[1,0]+d[1,0],\n",
    "    s[5,0]>=s[2,0]+d[2,0],\n",
    "    s[4,0]>=s[3,0]+d[3,0],\n",
    "    s[5,0]>=s[4,0]+d[4,0],\n",
    "]"
   ]
  },
  {
   "cell_type": "markdown",
   "metadata": {},
   "source": [
    "You are ready to solve the problem. Display the earliest you can finish (optimal value) and start times of all your tasks."
   ]
  },
  {
   "cell_type": "code",
   "execution_count": 6,
   "metadata": {},
   "outputs": [],
   "source": [
    "problem = cp.Problem(objective, constraints)"
   ]
  },
  {
   "cell_type": "code",
   "execution_count": 7,
   "metadata": {},
   "outputs": [
    {
     "data": {
      "text/plain": [
       "21.999999967071627"
      ]
     },
     "execution_count": 7,
     "metadata": {},
     "output_type": "execute_result"
    }
   ],
   "source": [
    "problem.solve()"
   ]
  },
  {
   "cell_type": "code",
   "execution_count": 8,
   "metadata": {},
   "outputs": [
    {
     "data": {
      "text/plain": [
       "array([[-8.83818601e-09],\n",
       "       [ 3.99999998e+00],\n",
       "       [ 9.90166768e+00],\n",
       "       [ 5.83489386e+00],\n",
       "       [ 8.99999997e+00],\n",
       "       [ 1.70000000e+01]])"
      ]
     },
     "execution_count": 8,
     "metadata": {},
     "output_type": "execute_result"
    }
   ],
   "source": [
    "s.value"
   ]
  },
  {
   "cell_type": "markdown",
   "metadata": {},
   "source": [
    "Below, we define a function you can use for plotting the processes. You can call it as `plot_process(start_times, durations)`"
   ]
  },
  {
   "cell_type": "code",
   "execution_count": 9,
   "metadata": {},
   "outputs": [],
   "source": [
    "def plot_process(start_times, durations):\n",
    "    plt.bar(list(range(len(start_times))), start_times.flatten()+durations.flatten())\n",
    "    plt.bar(list(range(len(start_times))), start_times.flatten(),color='white')\n",
    "    plt.xlabel('Task ID')\n",
    "    plt.ylabel('Time')\n",
    "    plt.title('Task Plan')"
   ]
  },
  {
   "cell_type": "code",
   "execution_count": 10,
   "metadata": {},
   "outputs": [
    {
     "data": {
      "image/png": "[encoded data removed]",
      "text/plain": [
       "<Figure size 432x288 with 1 Axes>"
      ]
     },
     "metadata": {
      "needs_background": "light"
     },
     "output_type": "display_data"
    }
   ],
   "source": [
    "plot_process(s.value, d)"
   ]
  },
  {
   "cell_type": "markdown",
   "metadata": {},
   "source": [
    "## 2) Adding a loop\n",
    "Now, add an edge (0,1) to $\\mathcal{E}$. This creates a loop inside the depency. What happens? Why?"
   ]
  },
  {
   "cell_type": "markdown",
   "metadata": {},
   "source": [
    "Hint: Just change the constraints, you can copy the majority of your code from above."
   ]
  },
  {
   "cell_type": "code",
   "execution_count": 11,
   "metadata": {},
   "outputs": [],
   "source": [
    "A = np.array([[0, 1, 0, 1, 0, 0], \n",
    "              [1, 0, 1, 0, 1, 0],\n",
    "              [0, 0, 0, 0, 0, 1],\n",
    "              [0, 0, 0, 0, 1, 0],\n",
    "              [0, 0, 0, 0, 0, 1],\n",
    "              [0, 0, 0, 0, 0, 0]])\n",
    "d = np.array([[4, 5, 6, 1, 8, 5]]).T"
   ]
  },
  {
   "cell_type": "code",
   "execution_count": 12,
   "metadata": {},
   "outputs": [],
   "source": [
    "# define the decision variables\n",
    "s = cp.Variable((6,1))\n",
    "# define the objective\n",
    "objective = cp.Minimize(s[5,0]+d[5,0])"
   ]
  },
  {
   "cell_type": "code",
   "execution_count": 13,
   "metadata": {},
   "outputs": [],
   "source": [
    "# define the constraints\n",
    "# smart way: use list.append\n",
    "constraints = [s>=0]\n",
    "for u in range(6):\n",
    "    for v in range(6):\n",
    "        if A[u,v]:\n",
    "            constraints.append(s[v,0]>=s[u,0]+d[u,0])"
   ]
  },
  {
   "cell_type": "code",
   "execution_count": 14,
   "metadata": {},
   "outputs": [],
   "source": [
    "problem = cp.Problem(objective, constraints)"
   ]
  },
  {
   "cell_type": "code",
   "execution_count": 15,
   "metadata": {},
   "outputs": [
    {
     "data": {
      "text/plain": [
       "inf"
      ]
     },
     "execution_count": 15,
     "metadata": {},
     "output_type": "execute_result"
    }
   ],
   "source": [
    "problem.solve()"
   ]
  },
  {
   "cell_type": "markdown",
   "metadata": {},
   "source": [
    "An infinite objective Value signifies infeasibility"
   ]
  },
  {
   "cell_type": "markdown",
   "metadata": {},
   "source": [
    "## 3) Loading Data for a larger Project\n",
    "Consider now a larger project. The data of this problem ($\\boldsymbol{A}$ and $\\boldsymbol{d}$) is provided in the file `Data.zip`. Implement and solve the linear program that finds the optimal schedule for this project. <br>\n",
    "<img src=\"project_graph_3.png\"><br>\n",
    "Today, we will load the data for you, later you have to do this on your own:"
   ]
  },
  {
   "cell_type": "code",
   "execution_count": 16,
   "metadata": {},
   "outputs": [],
   "source": [
    "A = np.loadtxt('A.csv', delimiter=',')\n",
    "d = np.expand_dims(np.loadtxt('d.csv', delimiter=','), 1)"
   ]
  },
  {
   "cell_type": "code",
   "execution_count": 17,
   "metadata": {},
   "outputs": [],
   "source": [
    "# define the decision variables\n",
    "s = cp.Variable((19,1))\n",
    "# define the objective\n",
    "objective = cp.Minimize(s[18,0]+d[18,0])"
   ]
  },
  {
   "cell_type": "code",
   "execution_count": 18,
   "metadata": {},
   "outputs": [],
   "source": [
    "# define the constraints\n",
    "# smart way: use list.append\n",
    "constraints = [s>=0]\n",
    "for u in range(19):\n",
    "    for v in range(19):\n",
    "        if A[u,v]:\n",
    "            constraints.append(s[v,0]>=s[u,0]+d[u,0])"
   ]
  },
  {
   "cell_type": "code",
   "execution_count": 19,
   "metadata": {},
   "outputs": [],
   "source": [
    "problem = cp.Problem(objective, constraints)"
   ]
  },
  {
   "cell_type": "code",
   "execution_count": 20,
   "metadata": {},
   "outputs": [
    {
     "data": {
      "text/plain": [
       "45.00000003310214"
      ]
     },
     "execution_count": 20,
     "metadata": {},
     "output_type": "execute_result"
    }
   ],
   "source": [
    "problem.solve()"
   ]
  },
  {
   "cell_type": "code",
   "execution_count": 21,
   "metadata": {},
   "outputs": [
    {
     "data": {
      "image/png": "[encoded data removed]",
      "text/plain": [
       "<Figure size 432x288 with 1 Axes>"
      ]
     },
     "metadata": {
      "needs_background": "light"
     },
     "output_type": "display_data"
    }
   ],
   "source": [
    "plot_process(s.value, d)"
   ]
  }
 ],
 "metadata": {
  "kernelspec": {
   "display_name": "Python 3",
   "language": "python",
   "name": "python3"
  },
  "language_info": {
   "codemirror_mode": {
    "name": "ipython",
    "version": 3
   },
   "file_extension": ".py",
   "mimetype": "text/x-python",
   "name": "python",
   "nbconvert_exporter": "python",
   "pygments_lexer": "ipython3",
   "version": "3.8.8"
  }
 },
 "nbformat": 4,
 "nbformat_minor": 4
}
