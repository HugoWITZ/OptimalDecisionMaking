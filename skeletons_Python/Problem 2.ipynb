{
 "cells": [
  {
   "cell_type": "code",
   "execution_count": 2,
   "id": "207d3bc5-6802-4c9a-a259-7afde0566e36",
   "metadata": {},
   "outputs": [],
   "source": [
    "import numpy as np\n",
    "import cvxpy as cp\n",
    "\n",
    "import matplotlib.pyplot as plt"
   ]
  },
  {
   "cell_type": "markdown",
   "id": "933e55bf-ae45-4167-a841-d9f0e56dc097",
   "metadata": {},
   "source": [
    "# Definition of data"
   ]
  },
  {
   "cell_type": "code",
   "execution_count": 3,
   "id": "f998c42f-eed2-45f7-b50d-94dc309e35dc",
   "metadata": {},
   "outputs": [],
   "source": [
    "generation_costs = np.array([15, 20, 15, 20, 30, 25.])\n",
    "startup_costs = np.array([75, 100, 75, 100, 100, 125.])\n",
    "shutdown_costs = np.array([7.5, 10.0, 7.5, 10.0, 10.0, 12.5])\n",
    "running_costs = np.array([10, 5, 10, 10, 10, 10.])\n",
    "\n",
    "capacity = np.array([10, 5, 10, 10, 20, 30.])\n",
    "ramp_up_rate = np.array([2, 5, 2, 5, 10, 5.])\n",
    "ramp_down_rate = np.array([2, 5, 2, 5, 10, 5.])\n",
    "\n",
    "initial_state = np.array([1, 0,0, 0, 0, 0])"
   ]
  },
  {
   "cell_type": "code",
   "execution_count": 47,
   "id": "e7ee68bb-c054-40ae-ad3c-50011fa65859",
   "metadata": {},
   "outputs": [
    {
     "data": {
      "text/plain": [
       "array([1, 0, 0, 0, 0, 0])"
      ]
     },
     "execution_count": 47,
     "metadata": {},
     "output_type": "execute_result"
    }
   ],
   "source": []
  },
  {
   "cell_type": "code",
   "execution_count": 4,
   "id": "1651b04e-0fc1-4ab9-b350-201f570a5d47",
   "metadata": {},
   "outputs": [],
   "source": [
    "rt = np.array([15.2, 16.4, 16.1, 10.9, 14.8, 7.6, 15.6, 5.5, 9.2, 5.7, 1.5, 12.4, 10.4, 4.8, 14.3, 0.5, 6.6, 5.7, 11.5, 11.9, 2.8, 7.3, 6.7, 9.7])\n",
    "dt = np.array([21.3, 21.4, 17.8, 20.9, 15.5, 17.6, 20.2, 23.8, 27.7, 30.1, 35.4, 39.4, 43.2, 47.0, 49.3, 51.5, 52.6, 50.3, 47.0, 43.1, 38.8, 33.2, 28.6, 24.3])"
   ]
  },
  {
   "cell_type": "markdown",
   "id": "d64598a4-55cb-46b0-aa3e-5788de15ebbb",
   "metadata": {},
   "source": [
    "# Question 2.2"
   ]
  },
  {
   "cell_type": "code",
   "execution_count": 16,
   "id": "d9d16d2b-f188-43d0-801d-84b3d950a031",
   "metadata": {
    "tags": []
   },
   "outputs": [],
   "source": [
    "Tup = 3\n",
    "Tdown = 2\n",
    "\n",
    "N = len(generation_costs) # Number of traditional generator\n",
    "T = len(rt)               # Planning horizon\n",
    "    \n",
    "x = cp.Variable((N, T), boolean=True)\n",
    "u = cp.Variable((N, T), boolean=True)\n",
    "v = cp.Variable((N, T), boolean=True)\n",
    "g = cp.Variable((N, T))"
   ]
  },
  {
   "cell_type": "code",
   "execution_count": 63,
   "id": "bd0d7da8-7e83-49cd-a007-e81aa8c479ab",
   "metadata": {},
   "outputs": [
    {
     "data": {
      "text/plain": [
       "6"
      ]
     },
     "execution_count": 63,
     "metadata": {},
     "output_type": "execute_result"
    }
   ],
   "source": []
  },
  {
   "cell_type": "code",
   "execution_count": 64,
   "id": "4f39f5b1-956d-42be-8169-7d644e53e82a",
   "metadata": {},
   "outputs": [],
   "source": [
    "constraints = [\n",
    "    dt == cp.sum(g, axis=0) + rt, # equation 2b\n",
    "    g>=0,\n",
    "    u[0,:]==0,\n",
    "    v[0,:]==0,\n",
    "]\n",
    "\n",
    "for i in range(N):\n",
    "    constraints.append(g[i,:] <= capacity[i]*x[i,:]) # equation 2c\n",
    "    constraints.append(x[i,0]==initial_state[i]) \n",
    "    for t in range(1,23):\n",
    "        constraints.append(x[i,t-1]-x[i,t]+u[i,t]>=0) # equation 2d\n",
    "        constraints.append(x[i,t]-x[i,t-1]+v[i,t]>=0) # equation 2e\n",
    "        #constraints.append(g[i,t]-g[i,t-1]<=ramp_up_rate[i]) # equation 1d\n",
    "        #constraints.append(g[i,t-1]-g[i,t]<=ramp_down_rate[i]) # equation 1e\n",
    "\n",
    "        \n",
    "for t in range(1,22):\n",
    "    for tau in range(t+1, min(t+Tup,T)):\n",
    "        constraints.append(x[:,t]-x[:,t-1]<=x[:,tau]) # equation 2f\n",
    "    for tau in range(t+1, min(t+Tdown,T)):\n",
    "        constraints.append(x[:,t-1]-x[:,t]<=1-x[:,tau]) # equation 2g\n",
    "        \n",
    "objective = cp.Minimize(cp.sum(generation_costs@g + startup_costs@u + shutdown_costs@v + running_costs@x)) # define the objective, equation 2a\n",
    "\n",
    "prob = cp.Problem(objective, constraints) # define the problem"
   ]
  },
  {
   "cell_type": "code",
   "execution_count": 65,
   "id": "e02c8375-6d5d-4f06-8895-f3422e526f2e",
   "metadata": {},
   "outputs": [
    {
     "name": "stdout",
     "output_type": "stream",
     "text": [
      "optimal value with GLPK: inf\n"
     ]
    }
   ],
   "source": [
    "prob.solve(solver=cp.GLPK_MI)\n",
    "print(\"optimal value with GLPK:\", prob.value)"
   ]
  },
  {
   "cell_type": "code",
   "execution_count": 57,
   "id": "f62e71fb-aec8-449b-b0c3-0cc7c4c45fbb",
   "metadata": {},
   "outputs": [],
   "source": [
    "x.value"
   ]
  },
  {
   "cell_type": "code",
   "execution_count": 58,
   "id": "8099d6f5-a88e-494d-96bf-a59681bf2f93",
   "metadata": {},
   "outputs": [],
   "source": [
    "u.value"
   ]
  },
  {
   "cell_type": "code",
   "execution_count": 59,
   "id": "1f387f74-7b90-4bf0-a612-198c43a065e5",
   "metadata": {},
   "outputs": [],
   "source": [
    "v.value"
   ]
  },
  {
   "cell_type": "code",
   "execution_count": 60,
   "id": "0d300494-5211-44b5-9d62-923c327e2b20",
   "metadata": {},
   "outputs": [],
   "source": [
    "g.value"
   ]
  },
  {
   "cell_type": "markdown",
   "id": "d0d63e22-1f0a-4e51-ae92-a7006f31fb04",
   "metadata": {
    "tags": []
   },
   "source": [
    "# Question 2.3 Relaxed"
   ]
  },
  {
   "cell_type": "code",
   "execution_count": 33,
   "id": "18f1ff2c-9053-479d-af61-ddb6fc88f286",
   "metadata": {},
   "outputs": [],
   "source": [
    "Tup = 3\n",
    "Tdown = 2\n",
    "\n",
    "N = len(generation_costs) # Number of traditional generator\n",
    "T = len(rt)               # Planning horizon\n",
    "    \n",
    "x = cp.Variable((N, T))\n",
    "u = cp.Variable((N, T))\n",
    "v = cp.Variable((N, T))\n",
    "g = cp.Variable((N, T))"
   ]
  },
  {
   "cell_type": "code",
   "execution_count": 38,
   "id": "7bfa7f8c-4877-40fe-8cb4-82b6c4df1f6f",
   "metadata": {},
   "outputs": [],
   "source": [
    "...\n",
    "# YOUR CODE HERE\n",
    "# We recommend GLPK_MI solver\n",
    "\n",
    "constraints = [\n",
    "    dt == cp.sum(g, axis=0) + rt, # equation 1b\n",
    "    g>=0,\n",
    "    u>=0,\n",
    "    v>=0,\n",
    "    \n",
    "    u<=1,\n",
    "    v<=1,\n",
    "    \n",
    "    \n",
    "]\n",
    "\n",
    "for i in range(N):\n",
    "    constraints.append(g[i,:] <= capacity[i]*x[i,:])\n",
    "    for t in range(1,23):\n",
    "        constraints.append(x[i,t-1]-x[i,t]+u[i,t]>=0)\n",
    "        constraints.append(x[i,t]-x[i,t-1]+v[i,t]>=0)\n",
    "\n",
    "        \n",
    "for t in range(1,22):\n",
    "    for tau in range(t+1, min(t+Tup,T)):\n",
    "        constraints.append(x[:,t]-x[:,t-1]<=x[:,tau])\n",
    "    for tau in range(t+1, min(t+Tdown,T)):\n",
    "        constraints.append(x[:,t-1]-x[:,t]<=1-x[:,tau])\n",
    "        \n",
    "objective = cp.Minimize(cp.sum(generation_costs@g + startup_costs@u + shutdown_costs@v + running_costs@x)) # define the objective, equation 1a\n",
    "prob = cp.Problem(objective, constraints) # define the problem"
   ]
  },
  {
   "cell_type": "code",
   "execution_count": 39,
   "id": "f75094d4-96b3-423f-a270-83b2982dfca7",
   "metadata": {},
   "outputs": [
    {
     "name": "stdout",
     "output_type": "stream",
     "text": [
      "optimal value with GLPK: 10813.183333333334\n"
     ]
    }
   ],
   "source": [
    "prob.solve(solver=cp.GLPK_MI)\n",
    "print(\"optimal value with GLPK:\", prob.value)"
   ]
  },
  {
   "cell_type": "code",
   "execution_count": null,
   "id": "60b77e01-94ae-45fe-88af-cd888f4ce0c9",
   "metadata": {},
   "outputs": [],
   "source": []
  }
 ],
 "metadata": {
  "kernelspec": {
   "display_name": "Python 3",
   "language": "python",
   "name": "python3"
  },
  "language_info": {
   "codemirror_mode": {
    "name": "ipython",
    "version": 3
   },
   "file_extension": ".py",
   "mimetype": "text/x-python",
   "name": "python",
   "nbconvert_exporter": "python",
   "pygments_lexer": "ipython3",
   "version": "3.8.8"
  }
 },
 "nbformat": 4,
 "nbformat_minor": 5
}
