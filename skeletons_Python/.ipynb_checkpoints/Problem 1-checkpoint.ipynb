{
 "cells": [
  {
   "cell_type": "code",
   "execution_count": 1,
   "id": "207d3bc5-6802-4c9a-a259-7afde0566e36",
   "metadata": {},
   "outputs": [],
   "source": [
    "import numpy as np\n",
    "import cvxpy as cp\n",
    "import glpk\n",
    "\n",
    "import matplotlib.pyplot as plt"
   ]
  },
  {
   "cell_type": "markdown",
   "id": "933e55bf-ae45-4167-a841-d9f0e56dc097",
   "metadata": {},
   "source": [
    "# Definition of data"
   ]
  },
  {
   "cell_type": "code",
   "execution_count": 2,
   "id": "f998c42f-eed2-45f7-b50d-94dc309e35dc",
   "metadata": {},
   "outputs": [],
   "source": [
    "generation_costs = np.array([15, 20, 15, 20, 30, 25.])\n",
    "capacity = np.array([10, 5, 10, 10, 20, 30.])\n",
    "ramp_up_rate = np.array([2, 5, 2, 5, 10, 5.])\n",
    "ramp_down_rate = np.array([2, 5, 2, 5, 10, 5.])"
   ]
  },
  {
   "cell_type": "code",
   "execution_count": 3,
   "id": "1651b04e-0fc1-4ab9-b350-201f570a5d47",
   "metadata": {},
   "outputs": [],
   "source": [
    "rt = np.array([15.2, 16.4, 16.1, 10.9, 14.8, 7.6, 15.6, 5.5, 9.2, 5.7, 1.5, 12.4, 10.4, 4.8, 14.3, 0.5, 6.6, 5.7, 11.5, 11.9, 2.8, 7.3, 6.7, 9.7])\n",
    "dt = np.array([21.3, 21.4, 17.8, 20.9, 15.5, 17.6, 20.2, 23.8, 27.7, 30.1, 35.4, 39.4, 43.2, 47.0, 49.3, 51.5, 52.6, 50.3, 47.0, 43.1, 38.8, 33.2, 28.6, 24.3])"
   ]
  },
  {
   "cell_type": "code",
   "execution_count": 29,
   "id": "216f5a03-9431-4be0-b406-0672b78f34c4",
   "metadata": {},
   "outputs": [
    {
     "data": {
      "text/plain": [
       "Expression(CONSTANT, NONNEGATIVE, (6,))"
      ]
     },
     "execution_count": 29,
     "metadata": {},
     "output_type": "execute_result"
    }
   ],
   "source": []
  },
  {
   "cell_type": "markdown",
   "id": "d64598a4-55cb-46b0-aa3e-5788de15ebbb",
   "metadata": {},
   "source": [
    "# Question 1.1"
   ]
  },
  {
   "cell_type": "markdown",
   "id": "eaa3e8f7-5c5f-48af-a4ad-e16717371951",
   "metadata": {},
   "source": [
    "## Problem definition"
   ]
  },
  {
   "cell_type": "code",
   "execution_count": 30,
   "id": "c067c5ad-e162-41c0-9f1d-32b9a90d100b",
   "metadata": {},
   "outputs": [],
   "source": [
    "...\n",
    "# YOUR CODE HERE\n",
    "# We recommend GLPK solver\n",
    "N = np.size(generation_costs) # Number of traditional generator\n",
    "T = np.size(rt)               # Planning horizon\n",
    "    \n",
    "g = cp.Variable((N, T))       # Amount of produced electricity"
   ]
  },
  {
   "cell_type": "markdown",
   "id": "1fc6281a-78d6-4d01-8e64-033f6aa3fcb2",
   "metadata": {},
   "source": [
    "Constraints definition"
   ]
  },
  {
   "cell_type": "code",
   "execution_count": 31,
   "id": "9d393c4d-ac8f-4f75-b3a7-6bc3a742d3a6",
   "metadata": {},
   "outputs": [],
   "source": [
    "constraints = [\n",
    "    dt == cp.sum(g, axis=0) + rt, # equation 1b\n",
    "    g>=0,\n",
    "]\n",
    "\n",
    "for i in range(len(capacity)):\n",
    "    constraints.append(g[i,:] <= capacity[i]) # equation 1c\n",
    "    for t in range(len(rt)-1):\n",
    "        constraints.append(g[i,t+1]-g[i,t]<=rt[i])\n",
    "        constraints.append(g[i,t]-g[i,t+1]<=dt[i])"
   ]
  },
  {
   "cell_type": "code",
   "execution_count": 32,
   "id": "0fae4084-c64f-45b2-bba0-ce6acd18dd53",
   "metadata": {},
   "outputs": [],
   "source": [
    "objective = cp.Minimize(cp.sum(generation_costs@g)) # define the objective\n",
    "\n",
    "prob = cp.Problem(objective, constraints) # define the problem"
   ]
  },
  {
   "cell_type": "code",
   "execution_count": 33,
   "id": "b8a742bd-17cd-4fbb-bdfc-196a7ea38a53",
   "metadata": {},
   "outputs": [
    {
     "name": "stdout",
     "output_type": "stream",
     "text": [
      "optimal value with GLPK: 9959.0\n"
     ]
    }
   ],
   "source": [
    "prob.solve(solver=cp.GLPK)\n",
    "print(\"optimal value with GLPK:\", prob.value)"
   ]
  },
  {
   "cell_type": "code",
   "execution_count": 34,
   "id": "0b176a8e-d770-4d47-8e7f-dc6c60870674",
   "metadata": {},
   "outputs": [
    {
     "data": {
      "text/plain": [
       "array([[ 6.1,  5. ,  1.7, 10. ,  0.7, 10. ,  4.6, 10. , 10. , 10. , 10. ,\n",
       "        10. , 10. , 10. , 10. , 10. , 10. , 10. , 10. , 10. , 10. , 10. ,\n",
       "        10. , 10. ],\n",
       "       [ 0. ,  0. ,  0. ,  0. ,  0. ,  0. ,  0. ,  0. ,  0. ,  4.4,  5. ,\n",
       "         5. ,  5. ,  5. ,  5. ,  5. ,  5. ,  5. ,  5. ,  5. ,  5. ,  5. ,\n",
       "         1.9,  0. ],\n",
       "       [ 0. ,  0. ,  0. ,  0. ,  0. ,  0. ,  0. ,  8.3,  8.5, 10. , 10. ,\n",
       "        10. , 10. , 10. , 10. , 10. , 10. , 10. , 10. , 10. , 10. , 10. ,\n",
       "        10. ,  4.6],\n",
       "       [ 0. ,  0. ,  0. ,  0. ,  0. ,  0. ,  0. ,  0. ,  0. ,  0. ,  8.9,\n",
       "         2. ,  7.8, 10. , 10. , 10. , 10. , 10. , 10. ,  6.2, 10. ,  0.9,\n",
       "         0. ,  0. ],\n",
       "       [ 0. ,  0. ,  0. ,  0. ,  0. ,  0. ,  0. ,  0. ,  0. ,  0. ,  0. ,\n",
       "         0. ,  0. ,  0. ,  0. ,  8.4,  0. ,  0. ,  0. ,  0. ,  0. ,  0. ,\n",
       "         0. ,  0. ],\n",
       "       [ 0. ,  0. ,  0. ,  0. ,  0. ,  0. ,  0. ,  0. ,  0. ,  0. ,  0. ,\n",
       "         0. ,  0. ,  7.2,  0. ,  7.6, 11. ,  9.6,  0.5,  0. ,  1. ,  0. ,\n",
       "         0. ,  0. ]])"
      ]
     },
     "execution_count": 34,
     "metadata": {},
     "output_type": "execute_result"
    }
   ],
   "source": [
    "g.value"
   ]
  },
  {
   "cell_type": "markdown",
   "id": "f308a95e-a920-4f5e-86ec-3e3a48480b4f",
   "metadata": {},
   "source": [
    "# Question 1.2"
   ]
  },
  {
   "cell_type": "code",
   "execution_count": 9,
   "id": "0b66a3da-dee6-4611-86e6-c6bd30201469",
   "metadata": {},
   "outputs": [],
   "source": [
    "nu_d = 0.92\n",
    "nu_c = 0.95\n",
    "S_bar = 20"
   ]
  },
  {
   "cell_type": "code",
   "execution_count": 10,
   "id": "3afc87f9-fdee-4446-9d87-87a9134b09f4",
   "metadata": {},
   "outputs": [
    {
     "data": {
      "text/plain": [
       "Ellipsis"
      ]
     },
     "execution_count": 10,
     "metadata": {},
     "output_type": "execute_result"
    }
   ],
   "source": [
    "...\n",
    "# YOUR CODE HERE\n",
    "# We recommend GLPK solver"
   ]
  }
 ],
 "metadata": {
  "kernelspec": {
   "display_name": "Python 3",
   "language": "python",
   "name": "python3"
  },
  "language_info": {
   "codemirror_mode": {
    "name": "ipython",
    "version": 3
   },
   "file_extension": ".py",
   "mimetype": "text/x-python",
   "name": "python",
   "nbconvert_exporter": "python",
   "pygments_lexer": "ipython3",
   "version": "3.8.8"
  }
 },
 "nbformat": 4,
 "nbformat_minor": 5
}
