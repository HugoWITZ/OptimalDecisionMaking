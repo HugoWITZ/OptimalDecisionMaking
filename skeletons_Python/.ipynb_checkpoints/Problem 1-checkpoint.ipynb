{
 "cells": [
  {
   "cell_type": "code",
   "execution_count": 37,
   "id": "207d3bc5-6802-4c9a-a259-7afde0566e36",
   "metadata": {},
   "outputs": [],
   "source": [
    "import numpy as np\n",
    "import cvxpy as cp\n",
    "\n",
    "import matplotlib.pyplot as plt"
   ]
  },
  {
   "cell_type": "markdown",
   "id": "933e55bf-ae45-4167-a841-d9f0e56dc097",
   "metadata": {},
   "source": [
    "# Definition of data"
   ]
  },
  {
   "cell_type": "code",
   "execution_count": 38,
   "id": "f998c42f-eed2-45f7-b50d-94dc309e35dc",
   "metadata": {},
   "outputs": [],
   "source": [
    "generation_costs = np.array([15, 20, 15, 20, 30, 25.])\n",
    "capacity = np.array([10, 5, 10, 10, 20, 30.])\n",
    "ramp_up_rate = np.array([2, 5, 2, 5, 10, 5.])\n",
    "ramp_down_rate = np.array([2, 5, 2, 5, 10, 5.])"
   ]
  },
  {
   "cell_type": "code",
   "execution_count": 39,
   "id": "1651b04e-0fc1-4ab9-b350-201f570a5d47",
   "metadata": {},
   "outputs": [],
   "source": [
    "rt = np.array([15.2, 16.4, 16.1, 10.9, 14.8, 7.6, 15.6, 5.5, 9.2, 5.7, 1.5, 12.4, 10.4, 4.8, 14.3, 0.5, 6.6, 5.7, 11.5, 11.9, 2.8, 7.3, 6.7, 9.7])\n",
    "dt = np.array([21.3, 21.4, 17.8, 20.9, 15.5, 17.6, 20.2, 23.8, 27.7, 30.1, 35.4, 39.4, 43.2, 47.0, 49.3, 51.5, 52.6, 50.3, 47.0, 43.1, 38.8, 33.2, 28.6, 24.3])"
   ]
  },
  {
   "cell_type": "markdown",
   "id": "d64598a4-55cb-46b0-aa3e-5788de15ebbb",
   "metadata": {},
   "source": [
    "# Question 1.1"
   ]
  },
  {
   "cell_type": "markdown",
   "id": "eaa3e8f7-5c5f-48af-a4ad-e16717371951",
   "metadata": {},
   "source": [
    "## Problem definition"
   ]
  },
  {
   "cell_type": "code",
   "execution_count": 40,
   "id": "c067c5ad-e162-41c0-9f1d-32b9a90d100b",
   "metadata": {},
   "outputs": [],
   "source": [
    "...\n",
    "# YOUR CODE HERE\n",
    "# We recommend GLPK solver\n",
    "\n",
    "N = np.size(generation_costs) # Number of traditional generator\n",
    "T = np.size(rt)               # Planning horizon\n",
    "    \n",
    "g = cp.Variable((N, T))       # Amount of produced electricity"
   ]
  },
  {
   "cell_type": "code",
   "execution_count": 41,
   "id": "9d393c4d-ac8f-4f75-b3a7-6bc3a742d3a6",
   "metadata": {},
   "outputs": [],
   "source": [
    "constraints = [\n",
    "    dt == cp.sum(g, axis=0) + rt, # equation 1b\n",
    "    g>=0,\n",
    "]\n",
    "\n",
    "for i in range(N):\n",
    "    constraints.append(g[i,:] <= capacity[i]) # equation 1c\n",
    "    for t in range(1,T):\n",
    "        constraints.append(g[i,t]-g[i,t-1]<=ramp_up_rate[i]) # equation 1d\n",
    "        constraints.append(g[i,t-1]-g[i,t]<=ramp_down_rate[i]) # equation 1e\n",
    "        \n",
    "objective = cp.Minimize(cp.sum(generation_costs@g)) # define the objective, equation 1a\n",
    "prob = cp.Problem(objective, constraints) # define the problem"
   ]
  },
  {
   "cell_type": "markdown",
   "id": "dc34495f-2836-4261-9a21-12ac7edd2ebb",
   "metadata": {},
   "source": [
    "## Problem solution"
   ]
  },
  {
   "cell_type": "code",
   "execution_count": 42,
   "id": "b8a742bd-17cd-4fbb-bdfc-196a7ea38a53",
   "metadata": {},
   "outputs": [
    {
     "name": "stdout",
     "output_type": "stream",
     "text": [
      "optimal value with GLPK: 10158.5\n"
     ]
    }
   ],
   "source": [
    "prob.solve(solver=cp.GLPK)\n",
    "print(\"optimal value with GLPK:\", prob.value)"
   ]
  },
  {
   "cell_type": "code",
   "execution_count": 43,
   "id": "0b176a8e-d770-4d47-8e7f-dc6c60870674",
   "metadata": {},
   "outputs": [
    {
     "data": {
      "text/plain": [
       "array([[ 5.7,  3.7,  1.7,  2.7,  0.7,  2.7,  2.6,  4.6,  6.6,  8.6, 10. ,\n",
       "        10. , 10. , 10. , 10. , 10. , 10. , 10. , 10. , 10. , 10. , 10. ,\n",
       "        10. ,  8. ],\n",
       "       [ 0. ,  0. ,  0. ,  5. ,  0. ,  5. ,  0. ,  5. ,  5. ,  2.8,  3.9,\n",
       "         0. ,  2.8,  5. ,  4. ,  5. ,  5. ,  5. ,  4.5,  1.2,  5. ,  0. ,\n",
       "         0. ,  0. ],\n",
       "       [ 0.4,  1.3,  0. ,  2. ,  0. ,  2. ,  2. ,  4. ,  6. ,  8. , 10. ,\n",
       "        10. , 10. , 10. , 10. , 10. , 10. , 10. , 10. , 10. , 10. , 10. ,\n",
       "         8.6,  6.6],\n",
       "       [ 0. ,  0. ,  0. ,  0.3,  0. ,  0.3,  0. ,  4.7,  0.9,  5. , 10. ,\n",
       "         7. , 10. , 10. , 10. , 10. , 10. , 10. , 10. , 10. , 10. ,  5.9,\n",
       "         3.3,  0. ],\n",
       "       [ 0. ,  0. ,  0. ,  0. ,  0. ,  0. ,  0. ,  0. ,  0. ,  0. ,  0. ,\n",
       "         0. ,  0. ,  2.2,  0. , 10. ,  0. ,  3.6,  0. ,  0. ,  0. ,  0. ,\n",
       "         0. ,  0. ],\n",
       "       [ 0. ,  0. ,  0. ,  0. ,  0. ,  0. ,  0. ,  0. ,  0. ,  0. ,  0. ,\n",
       "         0. ,  0. ,  5. ,  1. ,  6. , 11. ,  6. ,  1. ,  0. ,  1. ,  0. ,\n",
       "         0. ,  0. ]])"
      ]
     },
     "execution_count": 43,
     "metadata": {},
     "output_type": "execute_result"
    }
   ],
   "source": [
    "g.value"
   ]
  },
  {
   "cell_type": "markdown",
   "id": "f308a95e-a920-4f5e-86ec-3e3a48480b4f",
   "metadata": {},
   "source": [
    "# Question 1.2"
   ]
  },
  {
   "cell_type": "code",
   "execution_count": 21,
   "id": "0b66a3da-dee6-4611-86e6-c6bd30201469",
   "metadata": {},
   "outputs": [],
   "source": [
    "nu_d = 0.92\n",
    "nu_c = 0.95\n",
    "S_bar = 20"
   ]
  },
  {
   "cell_type": "code",
   "execution_count": 51,
   "id": "3afc87f9-fdee-4446-9d87-87a9134b09f4",
   "metadata": {},
   "outputs": [],
   "source": [
    "...\n",
    "# YOUR CODE HERE\n",
    "# We recommend GLPK solver\n",
    "\n",
    "St = cp.Variable(T+1)\n",
    "bc = cp.Variable(T)\n",
    "bd = cp.Variable(T)\n",
    "\n",
    "constraints2 = [\n",
    "    dt == cp.sum(g, axis=0) + rt - bc + nu_d*bd, # equation 1b\n",
    "    g>=0,\n",
    "    \n",
    "    St[0]==0, # St(1)=0\n",
    "    St[-1]==0, #St(T+1)=0\n",
    "    \n",
    "    St>=0,  # 0<=St<=S_bar\n",
    "    St<=S_bar,\n",
    "    \n",
    "    bc>=0,\n",
    "    bd>=0,\n",
    "    bd[0]==0,\n",
    "]\n",
    "\n",
    "for i in range(N):\n",
    "    constraints2.append(g[i,:] <= capacity[i]) # equation 1c\n",
    "    for t in range(1,T):\n",
    "        constraints2.append(g[i,t]-g[i,t-1]<=ramp_up_rate[i]) # equation 1d\n",
    "        constraints2.append(g[i,t-1]-g[i,t]<=ramp_down_rate[i]) # equation 1e\n",
    "        constraints2.append(St[t]==St[t-1]+nu_c*bc[t]-bd[t])\n",
    "        \n",
    "objective2 = cp.Minimize(cp.sum(generation_costs@g)) # define the objective, equation 1a\n",
    "prob = cp.Problem(objective2, constraints2) # define the problem"
   ]
  },
  {
   "cell_type": "code",
   "execution_count": 52,
   "id": "9c21718e-200a-4e13-a070-c15f790d45e0",
   "metadata": {},
   "outputs": [
    {
     "name": "stdout",
     "output_type": "stream",
     "text": [
      "optimal value with GLPK: 9777.672768878718\n"
     ]
    }
   ],
   "source": [
    "prob.solve(solver=cp.GLPK)\n",
    "print(\"optimal value with GLPK:\", prob.value)"
   ]
  },
  {
   "cell_type": "code",
   "execution_count": 47,
   "id": "8fc5b7b9-fa5d-4866-9cc9-1907022ca510",
   "metadata": {},
   "outputs": [
    {
     "data": {
      "text/plain": [
       "array([ 0.        ,  0.        ,  4.085     ,  4.085     ,  9.405     ,\n",
       "        9.69      , 18.905     , 18.905     , 20.        , 20.        ,\n",
       "       20.        , 20.        , 20.        , 17.5       , 17.5       ,\n",
       "        5.54347826,  4.45652174,  0.        ,  0.        ,  1.08695652,\n",
       "        0.        ,  0.        ,  0.        ,  0.        ,  0.        ])"
      ]
     },
     "execution_count": 47,
     "metadata": {},
     "output_type": "execute_result"
    }
   ],
   "source": [
    "St.value"
   ]
  },
  {
   "cell_type": "code",
   "execution_count": 48,
   "id": "4b66a972-6c02-4b00-bf07-866e4a0ef13a",
   "metadata": {},
   "outputs": [
    {
     "data": {
      "text/plain": [
       "array([ 0.00000000e+00,  0.00000000e+00,  4.30000000e+00,  0.00000000e+00,\n",
       "        5.60000000e+00,  3.00000000e-01,  9.70000000e+00,  0.00000000e+00,\n",
       "        1.15263158e+00,  0.00000000e+00,  0.00000000e+00,  0.00000000e+00,\n",
       "        1.63611814e-15,  0.00000000e+00, -9.47895859e-16,  0.00000000e+00,\n",
       "        0.00000000e+00,  0.00000000e+00,  0.00000000e+00,  1.14416476e+00,\n",
       "        0.00000000e+00,  0.00000000e+00,  0.00000000e+00,  0.00000000e+00])"
      ]
     },
     "execution_count": 48,
     "metadata": {},
     "output_type": "execute_result"
    }
   ],
   "source": [
    "bc.value"
   ]
  },
  {
   "cell_type": "code",
   "execution_count": 49,
   "id": "a7b6d53e-d71e-409f-92d9-e2b5701541d7",
   "metadata": {},
   "outputs": [
    {
     "data": {
      "text/plain": [
       "array([ 0.00000000e+00,  0.00000000e+00,  0.00000000e+00,  0.00000000e+00,\n",
       "        0.00000000e+00, -1.77635684e-15,  0.00000000e+00, -3.55271368e-15,\n",
       "        0.00000000e+00,  0.00000000e+00,  1.22871304e-15,  0.00000000e+00,\n",
       "        0.00000000e+00,  2.50000000e+00,  0.00000000e+00,  1.19565217e+01,\n",
       "        1.08695652e+00,  4.45652174e+00,  0.00000000e+00,  0.00000000e+00,\n",
       "        1.08695652e+00,  0.00000000e+00,  0.00000000e+00,  0.00000000e+00])"
      ]
     },
     "execution_count": 49,
     "metadata": {},
     "output_type": "execute_result"
    }
   ],
   "source": [
    "bd.value"
   ]
  },
  {
   "cell_type": "code",
   "execution_count": 50,
   "id": "6a347cdb-6342-46ce-9c50-488fc75f59de",
   "metadata": {},
   "outputs": [
    {
     "data": {
      "text/plain": [
       "array([[ 6.10000000e+00,  4.10000000e+00,  4.00000000e+00,\n",
       "         6.00000000e+00,  4.00000000e+00,  6.00000000e+00,\n",
       "         8.00000000e+00,  1.00000000e+01,  1.00000000e+01,\n",
       "         1.00000000e+01,  1.00000000e+01,  1.00000000e+01,\n",
       "         1.00000000e+01,  1.00000000e+01,  1.00000000e+01,\n",
       "         1.00000000e+01,  1.00000000e+01,  1.00000000e+01,\n",
       "         1.00000000e+01,  1.00000000e+01,  1.00000000e+01,\n",
       "         1.00000000e+01,  1.00000000e+01,  8.00000000e+00],\n",
       "       [ 0.00000000e+00,  0.00000000e+00,  0.00000000e+00,\n",
       "         8.88178420e-16,  0.00000000e+00,  0.00000000e+00,\n",
       "         0.00000000e+00,  5.04485342e-15,  0.00000000e+00,\n",
       "        -1.77635684e-15,  4.50000000e+00,  0.00000000e+00,\n",
       "         2.80000000e+00,  5.00000000e+00,  5.00000000e+00,\n",
       "         5.00000000e+00,  5.00000000e+00,  5.00000000e+00,\n",
       "         5.00000000e+00,  2.34416476e+00,  5.00000000e+00,\n",
       "         0.00000000e+00,  0.00000000e+00,  0.00000000e+00],\n",
       "       [ 0.00000000e+00,  9.00000000e-01,  2.00000000e+00,\n",
       "         4.00000000e+00,  2.30000000e+00,  4.30000000e+00,\n",
       "         6.30000000e+00,  8.30000000e+00,  9.65263158e+00,\n",
       "         1.00000000e+01,  1.00000000e+01,  1.00000000e+01,\n",
       "         1.00000000e+01,  1.00000000e+01,  1.00000000e+01,\n",
       "         1.00000000e+01,  1.00000000e+01,  1.00000000e+01,\n",
       "         1.00000000e+01,  1.00000000e+01,  1.00000000e+01,\n",
       "         1.00000000e+01,  8.60000000e+00,  6.60000000e+00],\n",
       "       [ 0.00000000e+00,  0.00000000e+00,  0.00000000e+00,\n",
       "         0.00000000e+00,  0.00000000e+00,  0.00000000e+00,\n",
       "         0.00000000e+00,  0.00000000e+00,  0.00000000e+00,\n",
       "         4.40000000e+00,  9.40000000e+00,  7.00000000e+00,\n",
       "         1.00000000e+01,  1.00000000e+01,  1.00000000e+01,\n",
       "         1.00000000e+01,  1.00000000e+01,  1.00000000e+01,\n",
       "         1.00000000e+01,  1.00000000e+01,  1.00000000e+01,\n",
       "         5.90000000e+00,  3.30000000e+00,  0.00000000e+00],\n",
       "       [ 0.00000000e+00,  0.00000000e+00,  0.00000000e+00,\n",
       "         0.00000000e+00,  0.00000000e+00,  0.00000000e+00,\n",
       "         0.00000000e+00,  0.00000000e+00,  0.00000000e+00,\n",
       "         0.00000000e+00,  0.00000000e+00,  0.00000000e+00,\n",
       "         0.00000000e+00,  4.88498131e-15, -9.47895859e-16,\n",
       "        -3.55271368e-15,  4.44089210e-16,  0.00000000e+00,\n",
       "         0.00000000e+00,  0.00000000e+00,  0.00000000e+00,\n",
       "         0.00000000e+00,  0.00000000e+00,  0.00000000e+00],\n",
       "       [ 0.00000000e+00,  0.00000000e+00,  0.00000000e+00,\n",
       "         0.00000000e+00,  0.00000000e+00,  0.00000000e+00,\n",
       "         0.00000000e+00,  0.00000000e+00,  0.00000000e+00,\n",
       "         0.00000000e+00,  0.00000000e+00,  0.00000000e+00,\n",
       "         0.00000000e+00,  4.90000000e+00,  0.00000000e+00,\n",
       "         5.00000000e+00,  1.00000000e+01,  5.50000000e+00,\n",
       "         5.00000000e-01,  0.00000000e+00,  0.00000000e+00,\n",
       "         0.00000000e+00,  0.00000000e+00,  0.00000000e+00]])"
      ]
     },
     "execution_count": 50,
     "metadata": {},
     "output_type": "execute_result"
    }
   ],
   "source": [
    "g.value"
   ]
  }
 ],
 "metadata": {
  "kernelspec": {
   "display_name": "Python 3",
   "language": "python",
   "name": "python3"
  },
  "language_info": {
   "codemirror_mode": {
    "name": "ipython",
    "version": 3
   },
   "file_extension": ".py",
   "mimetype": "text/x-python",
   "name": "python",
   "nbconvert_exporter": "python",
   "pygments_lexer": "ipython3",
   "version": "3.8.8"
  }
 },
 "nbformat": 4,
 "nbformat_minor": 5
}
