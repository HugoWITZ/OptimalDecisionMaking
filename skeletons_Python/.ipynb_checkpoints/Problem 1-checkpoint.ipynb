{
 "cells": [
  {
   "cell_type": "code",
   "execution_count": 35,
   "id": "207d3bc5-6802-4c9a-a259-7afde0566e36",
   "metadata": {},
   "outputs": [],
   "source": [
    "import numpy as np\n",
    "import cvxpy as cp\n",
    "import glpk\n",
    "\n",
    "import matplotlib.pyplot as plt"
   ]
  },
  {
   "cell_type": "markdown",
   "id": "933e55bf-ae45-4167-a841-d9f0e56dc097",
   "metadata": {},
   "source": [
    "# Definition of data"
   ]
  },
  {
   "cell_type": "code",
   "execution_count": 36,
   "id": "f998c42f-eed2-45f7-b50d-94dc309e35dc",
   "metadata": {},
   "outputs": [],
   "source": [
    "generation_costs = np.array([15, 20, 15, 20, 30, 25.])\n",
    "capacity = np.array([10, 5, 10, 10, 20, 30.])\n",
    "ramp_up_rate = np.array([2, 5, 2, 5, 10, 5.])\n",
    "ramp_down_rate = np.array([2, 5, 2, 5, 10, 5.])"
   ]
  },
  {
   "cell_type": "code",
   "execution_count": 37,
   "id": "1651b04e-0fc1-4ab9-b350-201f570a5d47",
   "metadata": {},
   "outputs": [],
   "source": [
    "rt = np.array([15.2, 16.4, 16.1, 10.9, 14.8, 7.6, 15.6, 5.5, 9.2, 5.7, 1.5, 12.4, 10.4, 4.8, 14.3, 0.5, 6.6, 5.7, 11.5, 11.9, 2.8, 7.3, 6.7, 9.7])\n",
    "dt = np.array([21.3, 21.4, 17.8, 20.9, 15.5, 17.6, 20.2, 23.8, 27.7, 30.1, 35.4, 39.4, 43.2, 47.0, 49.3, 51.5, 52.6, 50.3, 47.0, 43.1, 38.8, 33.2, 28.6, 24.3])"
   ]
  },
  {
   "cell_type": "code",
   "execution_count": null,
   "id": "216f5a03-9431-4be0-b406-0672b78f34c4",
   "metadata": {},
   "outputs": [],
   "source": []
  },
  {
   "cell_type": "markdown",
   "id": "d64598a4-55cb-46b0-aa3e-5788de15ebbb",
   "metadata": {},
   "source": [
    "# Question 1.1"
   ]
  },
  {
   "cell_type": "markdown",
   "id": "eaa3e8f7-5c5f-48af-a4ad-e16717371951",
   "metadata": {},
   "source": [
    "## Problem definition"
   ]
  },
  {
   "cell_type": "code",
   "execution_count": 38,
   "id": "c067c5ad-e162-41c0-9f1d-32b9a90d100b",
   "metadata": {},
   "outputs": [],
   "source": [
    "...\n",
    "# YOUR CODE HERE\n",
    "# We recommend GLPK solver\n",
    "N = np.size(generation_costs) # Number of traditional generator\n",
    "T = np.size(rt)               # Planning horizon\n",
    "    \n",
    "g = cp.Variable((N, T))       # Amount of produced electricity"
   ]
  },
  {
   "cell_type": "code",
   "execution_count": 39,
   "id": "9d393c4d-ac8f-4f75-b3a7-6bc3a742d3a6",
   "metadata": {},
   "outputs": [],
   "source": [
    "constraints = [\n",
    "    dt == cp.sum(g, axis=0) + rt, # equation 1b\n",
    "    g>=0,\n",
    "]\n",
    "\n",
    "for i in range(len(capacity)):\n",
    "    constraints.append(g[i,:] <= capacity[i]) # equation 1c\n",
    "    for t in range(len(rt)-1):\n",
    "        constraints.append(g[i,t+1]-g[i,t]<=ramp_up_rate[i]) # equation 1d\n",
    "        constraints.append(g[i,t]-g[i,t+1]<=ramp_down_rate[i]) # equation 1e\n",
    "        \n",
    "objective = cp.Minimize(cp.sum(generation_costs@g)) # define the objective, equation 1a"
   ]
  },
  {
   "cell_type": "code",
   "execution_count": 40,
   "id": "0fae4084-c64f-45b2-bba0-ce6acd18dd53",
   "metadata": {},
   "outputs": [],
   "source": [
    "prob = cp.Problem(objective, constraints) # define the problem"
   ]
  },
  {
   "cell_type": "markdown",
   "id": "dc34495f-2836-4261-9a21-12ac7edd2ebb",
   "metadata": {},
   "source": [
    "## Problem solution"
   ]
  },
  {
   "cell_type": "code",
   "execution_count": 41,
   "id": "b8a742bd-17cd-4fbb-bdfc-196a7ea38a53",
   "metadata": {},
   "outputs": [
    {
     "name": "stdout",
     "output_type": "stream",
     "text": [
      "optimal value with GLPK: 10158.5\n"
     ]
    }
   ],
   "source": [
    "prob.solve(solver=cp.GLPK)\n",
    "print(\"optimal value with GLPK:\", prob.value)"
   ]
  },
  {
   "cell_type": "code",
   "execution_count": 42,
   "id": "0b176a8e-d770-4d47-8e7f-dc6c60870674",
   "metadata": {},
   "outputs": [
    {
     "data": {
      "text/plain": [
       "array([[ 5.7,  3.7,  1.7,  2.7,  0.7,  2.7,  2.6,  4.6,  6.6,  8.6, 10. ,\n",
       "        10. , 10. , 10. , 10. , 10. , 10. , 10. , 10. , 10. , 10. , 10. ,\n",
       "        10. ,  8. ],\n",
       "       [ 0. ,  0. ,  0. ,  5. ,  0. ,  5. ,  0. ,  5. ,  5. ,  2.8,  3.9,\n",
       "         0. ,  2.8,  5. ,  4. ,  5. ,  5. ,  5. ,  4.5,  1.2,  5. ,  0. ,\n",
       "         0. ,  0. ],\n",
       "       [ 0.4,  1.3,  0. ,  2. ,  0. ,  2. ,  2. ,  4. ,  6. ,  8. , 10. ,\n",
       "        10. , 10. , 10. , 10. , 10. , 10. , 10. , 10. , 10. , 10. , 10. ,\n",
       "         8.6,  6.6],\n",
       "       [ 0. ,  0. ,  0. ,  0.3,  0. ,  0.3,  0. ,  4.7,  0.9,  5. , 10. ,\n",
       "         7. , 10. , 10. , 10. , 10. , 10. , 10. , 10. , 10. , 10. ,  5.9,\n",
       "         3.3,  0. ],\n",
       "       [ 0. ,  0. ,  0. ,  0. ,  0. ,  0. ,  0. ,  0. ,  0. ,  0. ,  0. ,\n",
       "         0. ,  0. ,  2.2,  0. , 10. ,  0. ,  3.6,  0. ,  0. ,  0. ,  0. ,\n",
       "         0. ,  0. ],\n",
       "       [ 0. ,  0. ,  0. ,  0. ,  0. ,  0. ,  0. ,  0. ,  0. ,  0. ,  0. ,\n",
       "         0. ,  0. ,  5. ,  1. ,  6. , 11. ,  6. ,  1. ,  0. ,  1. ,  0. ,\n",
       "         0. ,  0. ]])"
      ]
     },
     "execution_count": 42,
     "metadata": {},
     "output_type": "execute_result"
    }
   ],
   "source": [
    "g.value"
   ]
  },
  {
   "cell_type": "markdown",
   "id": "f308a95e-a920-4f5e-86ec-3e3a48480b4f",
   "metadata": {},
   "source": [
    "# Question 1.2"
   ]
  },
  {
   "cell_type": "code",
   "execution_count": 43,
   "id": "0b66a3da-dee6-4611-86e6-c6bd30201469",
   "metadata": {},
   "outputs": [],
   "source": [
    "nu_d = 0.92\n",
    "nu_c = 0.95\n",
    "S_bar = 20"
   ]
  },
  {
   "cell_type": "code",
   "execution_count": 74,
   "id": "3afc87f9-fdee-4446-9d87-87a9134b09f4",
   "metadata": {},
   "outputs": [],
   "source": [
    "...\n",
    "# YOUR CODE HERE\n",
    "# We recommend GLPK solver\n",
    "\n",
    "St = cp.Variable(T)\n",
    "bc = cp.Variable(T)\n",
    "bd = cp.Variable(T)\n",
    "\n",
    "constraints2 = [\n",
    "    dt == cp.sum(g, axis=0) + rt - bc + nu_d*bd, # equation 1b\n",
    "    g>=0,\n",
    "    St[0]==0,\n",
    "    St[-1]==0,\n",
    "    St>=0,\n",
    "    St<=S_bar,\n",
    "]\n",
    "\n",
    "for i in range(len(capacity)):\n",
    "    constraints2.append(g[i,:] <= capacity[i]) # equation 1c\n",
    "    for t in range(len(rt)-1):\n",
    "        constraints2.append(g[i,t+1]-g[i,t]<=ramp_up_rate[i]) # equation 1d\n",
    "        constraints2.append(g[i,t]-g[i,t+1]<=ramp_down_rate[i]) # equation 1e\n",
    "        constraints2.append(St[t+1]==St[t]+nu_c*bc[t+1]-bd[t+1])\n",
    "        \n",
    "objective2 = cp.Minimize(cp.sum(generation_costs@g)) # define the objective, equation 1a\n"
   ]
  },
  {
   "cell_type": "code",
   "execution_count": 75,
   "id": "5c8106ec-d069-4428-b945-72b513274b4d",
   "metadata": {},
   "outputs": [],
   "source": [
    "prob = cp.Problem(objective2, constraints2) # define the problem\n"
   ]
  },
  {
   "cell_type": "code",
   "execution_count": 76,
   "id": "9c21718e-200a-4e13-a070-c15f790d45e0",
   "metadata": {},
   "outputs": [
    {
     "name": "stdout",
     "output_type": "stream",
     "text": [
      "optimal value with GLPK: -1.7679425175294072e-12\n"
     ]
    }
   ],
   "source": [
    "prob.solve(solver=cp.GLPK)\n",
    "print(\"optimal value with GLPK:\", prob.value)\n"
   ]
  },
  {
   "cell_type": "code",
   "execution_count": 77,
   "id": "8fc5b7b9-fa5d-4866-9cc9-1907022ca510",
   "metadata": {},
   "outputs": [
    {
     "data": {
      "text/plain": [
       "array([[-1.42108547e-14,  0.00000000e+00,  0.00000000e+00,\n",
       "         0.00000000e+00,  0.00000000e+00,  0.00000000e+00,\n",
       "         0.00000000e+00,  0.00000000e+00,  0.00000000e+00,\n",
       "         0.00000000e+00,  0.00000000e+00,  0.00000000e+00,\n",
       "         0.00000000e+00,  0.00000000e+00,  0.00000000e+00,\n",
       "         0.00000000e+00,  0.00000000e+00,  0.00000000e+00,\n",
       "         0.00000000e+00,  0.00000000e+00,  0.00000000e+00,\n",
       "         0.00000000e+00,  0.00000000e+00,  0.00000000e+00],\n",
       "       [ 0.00000000e+00,  0.00000000e+00,  0.00000000e+00,\n",
       "         0.00000000e+00,  0.00000000e+00,  0.00000000e+00,\n",
       "         0.00000000e+00,  0.00000000e+00,  0.00000000e+00,\n",
       "         0.00000000e+00,  0.00000000e+00,  0.00000000e+00,\n",
       "         0.00000000e+00,  0.00000000e+00,  0.00000000e+00,\n",
       "         0.00000000e+00,  0.00000000e+00,  0.00000000e+00,\n",
       "         0.00000000e+00,  0.00000000e+00,  1.77635684e-15,\n",
       "         0.00000000e+00,  0.00000000e+00,  0.00000000e+00],\n",
       "       [ 0.00000000e+00,  0.00000000e+00,  0.00000000e+00,\n",
       "         0.00000000e+00, -2.97539771e-14, -2.84217094e-14,\n",
       "        -2.99175889e-14, -2.94734997e-14,  3.55271368e-15,\n",
       "         3.99680289e-15,  2.22044605e-15,  2.22044605e-15,\n",
       "        -4.44089210e-16,  0.00000000e+00,  0.00000000e+00,\n",
       "         0.00000000e+00,  0.00000000e+00,  0.00000000e+00,\n",
       "         0.00000000e+00,  0.00000000e+00,  0.00000000e+00,\n",
       "         0.00000000e+00,  0.00000000e+00,  0.00000000e+00],\n",
       "       [ 0.00000000e+00,  0.00000000e+00,  0.00000000e+00,\n",
       "         0.00000000e+00,  0.00000000e+00,  0.00000000e+00,\n",
       "         0.00000000e+00,  0.00000000e+00,  0.00000000e+00,\n",
       "         0.00000000e+00,  0.00000000e+00,  0.00000000e+00,\n",
       "         0.00000000e+00,  0.00000000e+00,  0.00000000e+00,\n",
       "         0.00000000e+00,  0.00000000e+00,  0.00000000e+00,\n",
       "         0.00000000e+00,  0.00000000e+00,  0.00000000e+00,\n",
       "         0.00000000e+00,  0.00000000e+00,  0.00000000e+00],\n",
       "       [ 0.00000000e+00,  0.00000000e+00,  0.00000000e+00,\n",
       "         0.00000000e+00,  0.00000000e+00,  0.00000000e+00,\n",
       "         0.00000000e+00,  0.00000000e+00,  0.00000000e+00,\n",
       "         0.00000000e+00,  0.00000000e+00,  0.00000000e+00,\n",
       "         0.00000000e+00,  0.00000000e+00,  0.00000000e+00,\n",
       "         0.00000000e+00,  0.00000000e+00,  0.00000000e+00,\n",
       "         0.00000000e+00,  0.00000000e+00,  0.00000000e+00,\n",
       "         0.00000000e+00,  0.00000000e+00,  0.00000000e+00],\n",
       "       [ 0.00000000e+00,  0.00000000e+00,  0.00000000e+00,\n",
       "         0.00000000e+00,  0.00000000e+00,  0.00000000e+00,\n",
       "         0.00000000e+00,  0.00000000e+00,  0.00000000e+00,\n",
       "         0.00000000e+00,  0.00000000e+00,  0.00000000e+00,\n",
       "         0.00000000e+00,  0.00000000e+00,  0.00000000e+00,\n",
       "         0.00000000e+00,  0.00000000e+00,  0.00000000e+00,\n",
       "         0.00000000e+00,  0.00000000e+00,  0.00000000e+00,\n",
       "         0.00000000e+00,  0.00000000e+00,  0.00000000e+00]])"
      ]
     },
     "execution_count": 77,
     "metadata": {},
     "output_type": "execute_result"
    }
   ],
   "source": [
    "g.value"
   ]
  },
  {
   "cell_type": "code",
   "execution_count": null,
   "id": "4b66a972-6c02-4b00-bf07-866e4a0ef13a",
   "metadata": {},
   "outputs": [],
   "source": []
  }
 ],
 "metadata": {
  "kernelspec": {
   "display_name": "Python 3",
   "language": "python",
   "name": "python3"
  },
  "language_info": {
   "codemirror_mode": {
    "name": "ipython",
    "version": 3
   },
   "file_extension": ".py",
   "mimetype": "text/x-python",
   "name": "python",
   "nbconvert_exporter": "python",
   "pygments_lexer": "ipython3",
   "version": "3.8.8"
  }
 },
 "nbformat": 4,
 "nbformat_minor": 5
}
